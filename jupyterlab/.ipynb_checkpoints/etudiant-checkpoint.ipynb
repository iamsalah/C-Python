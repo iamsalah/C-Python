{
 "cells": [
  {
   "cell_type": "code",
   "execution_count": 8,
   "id": "8396a85d-3885-404c-b15a-27ca10e83097",
   "metadata": {},
   "outputs": [],
   "source": [
    "class Etudiant:\n",
    "    \n",
    "    def __init__(self, nom, prenom, age, matricule, cours_inscrits=None):\n",
    "        self.nom = nom\n",
    "        self.prenom = prenom\n",
    "        self.age = age\n",
    "        self.matricule = matricule\n",
    "        self.cours_inscrits = []\n",
    "\n",
    "    def ajout_cours(self, cours):\n",
    "        self.cours_inscrits.append(cours)\n",
    "\n",
    "    def afficher_informations(self):\n",
    "        print(f\"Nom: {self.nom}\")\n",
    "        print(f\"Prénom: {self.prenom}\")\n",
    "        print(f\"Âge: {self.age}\")\n",
    "        print(f\"Matricule: {self.matricule}\")\n",
    "        print(\"Cours inscrits:\")\n",
    "        for cours in self.cours_inscrits:\n",
    "            print(cours)\n"
   ]
  },
  {
   "cell_type": "code",
   "execution_count": null,
   "id": "31b2e479-bc35-4dcf-b0bc-db6937b8c46a",
   "metadata": {},
   "outputs": [],
   "source": []
  }
 ],
 "metadata": {
  "kernelspec": {
   "display_name": "Python 3 (ipykernel)",
   "language": "python",
   "name": "python3"
  },
  "language_info": {
   "codemirror_mode": {
    "name": "ipython",
    "version": 3
   },
   "file_extension": ".py",
   "mimetype": "text/x-python",
   "name": "python",
   "nbconvert_exporter": "python",
   "pygments_lexer": "ipython3",
   "version": "3.10.11"
  }
 },
 "nbformat": 4,
 "nbformat_minor": 5
}
