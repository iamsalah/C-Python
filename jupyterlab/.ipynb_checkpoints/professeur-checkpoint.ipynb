{
 "cells": [
  {
   "cell_type": "code",
   "execution_count": 1,
   "id": "b5a72e87-e52a-4f36-8e50-82243d5c3a45",
   "metadata": {},
   "outputs": [],
   "source": [
    "class Professeur:\n",
    "    \n",
    "    def __init__(self, nom, prenom, age, specialite, departement=None):\n",
    "        self.nom = nom\n",
    "        self.prenom = prenom\n",
    "        self.age = age\n",
    "        self.specialite = specialite\n",
    "        self.departement = departement\n",
    "        \n",
    "    def assigner_departement(self, departement):\n",
    "        self.departement = departement\n",
    "        \n",
    "    def afficher_informations(self):\n",
    "        print(f\"Nom: {self.nom}\")\n",
    "        print(f\"Prénom: {self.prenom}\")\n",
    "        print(f\"Âge: {self.age}\")\n",
    "        print(f\"Spécialité: {self.specialite}\")\n",
    "        if self.departement:\n",
    "            print(f\"Département: {self.departement}\")\n",
    "        else:\n",
    "            print(\"Aucun département assigné.\")"
   ]
  },
  {
   "cell_type": "code",
   "execution_count": null,
   "id": "12ee001d-83dc-442b-9424-9cf8eb4cd0cb",
   "metadata": {},
   "outputs": [],
   "source": []
  }
 ],
 "metadata": {
  "kernelspec": {
   "display_name": "Python 3 (ipykernel)",
   "language": "python",
   "name": "python3"
  },
  "language_info": {
   "codemirror_mode": {
    "name": "ipython",
    "version": 3
   },
   "file_extension": ".py",
   "mimetype": "text/x-python",
   "name": "python",
   "nbconvert_exporter": "python",
   "pygments_lexer": "ipython3",
   "version": "3.10.11"
  }
 },
 "nbformat": 4,
 "nbformat_minor": 5
}
