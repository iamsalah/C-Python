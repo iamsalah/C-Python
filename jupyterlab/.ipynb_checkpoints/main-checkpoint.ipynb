{
 "cells": [
  {
   "cell_type": "code",
   "execution_count": 71,
   "id": "8a75b25b-223a-448a-b609-1e9407f77bb2",
   "metadata": {},
   "outputs": [],
   "source": [
    "from application_universitaire import ApplicationUniversitaire\n",
    "from universite import Universite\n",
    "from etudiant import Etudiant\n",
    "from professeur import Professeur\n",
    "from cours import Cours"
   ]
  },
  {
   "cell_type": "code",
   "execution_count": 68,
   "id": "81462c75-720e-41e1-8e7e-21b770487d3c",
   "metadata": {},
   "outputs": [
    {
     "name": "stdout",
     "output_type": "stream",
     "text": [
      "Gestion Université lancée.\n"
     ]
    }
   ],
   "source": [
    "app_universitaire = ApplicationUniversitaire(\"Gestion Université\")\n",
    "app_universitaire.lancer_application()"
   ]
  },
  {
   "cell_type": "code",
   "execution_count": 69,
   "id": "75bd79ec-db53-408b-b6b4-05f075468831",
   "metadata": {},
   "outputs": [],
   "source": [
    "etudiant1 = Etudiant(\"Dupont\", \"Jean\", 20, \"E001\")\n",
    "etudiant2 = Etudiant(\"Martin\", \"Sophie\", 22, \"E002\")\n",
    "professeur1 = Professeur(\"Durand\", \"Pierre\", 40, \"Informatique\")\n",
    "professeur2 = Professeur(\"Lefebvre\", \"Marie\", 38, \"Mathématiques\")\n",
    "cours1 = Cours(\"Introduction à l'Informatique\", \"INFO101\", professeur1)\n",
    "cours2 = Cours(\"Algèbre Linéaire\", \"MATH201\", professeur2)\n",
    "universite = Universite(\"Université de Paris Saclay\")"
   ]
  },
  {
   "cell_type": "code",
   "execution_count": 70,
   "id": "5233e853-7662-45f6-933c-f4c295abef5f",
   "metadata": {},
   "outputs": [
    {
     "ename": "AttributeError",
     "evalue": "'NoneType' object has no attribute 'append'",
     "output_type": "error",
     "traceback": [
      "\u001b[1;31m---------------------------------------------------------------------------\u001b[0m",
      "\u001b[1;31mAttributeError\u001b[0m                            Traceback (most recent call last)",
      "Cell \u001b[1;32mIn[70], line 1\u001b[0m\n\u001b[1;32m----> 1\u001b[0m \u001b[43metudiant1\u001b[49m\u001b[38;5;241;43m.\u001b[39;49m\u001b[43majout_cours\u001b[49m\u001b[43m(\u001b[49m\u001b[43mcours1\u001b[49m\u001b[43m)\u001b[49m\n",
      "File \u001b[1;32m~\\OneDrive - AFORP exploitation\\Master 1 IRS\\LangageC\\examen\\src_Python\\etudiant.py:17\u001b[0m, in \u001b[0;36mEtudiant.ajout_cours\u001b[1;34m(self, cours)\u001b[0m\n\u001b[0;32m     16\u001b[0m \u001b[38;5;28;01mdef\u001b[39;00m \u001b[38;5;21majout_cours\u001b[39m(\u001b[38;5;28mself\u001b[39m, cours):\n\u001b[1;32m---> 17\u001b[0m     \u001b[38;5;28;43mself\u001b[39;49m\u001b[38;5;241;43m.\u001b[39;49m\u001b[43mcours_inscrits\u001b[49m\u001b[38;5;241;43m.\u001b[39;49m\u001b[43mappend\u001b[49m(cours)\n",
      "\u001b[1;31mAttributeError\u001b[0m: 'NoneType' object has no attribute 'append'"
     ]
    }
   ],
   "source": [
    "etudiant1.ajout_cours(cours1)"
   ]
  },
  {
   "cell_type": "code",
   "execution_count": null,
   "id": "5c2cfc2e-a838-468f-8bc4-13e5211dcfcc",
   "metadata": {},
   "outputs": [],
   "source": [
    "\n",
    "universite.ajouter_etudiant(etudiant1)\n",
    "universite.ajouter_etudiant(etudiant2)\n",
    "universite.ajouter_professeur(professeur1)\n",
    "universite.ajouter_professeur(professeur2)\n",
    "universite.ajouter_cours(cours1)\n",
    "universite.ajouter_cours(cours2)\n",
    "\n",
    "print(\"Informations de l'étudiant 1 :\")\n",
    "etudiant1.afficher_informations()\n",
    "\n",
    "print(\"\\nInformations de l'étudiant 2 :\")\n",
    "etudiant2.afficher_informations()\n",
    "\n",
    "print(\"\\nInformations du cours 1 :\")\n",
    "cours1.afficher_informations()\n",
    "\n",
    "app_universitaire.utiliser_application()\n",
    "\n",
    "app_universitaire.quitter_application()"
   ]
  }
 ],
 "metadata": {
  "kernelspec": {
   "display_name": "Python 3 (ipykernel)",
   "language": "python",
   "name": "python3"
  },
  "language_info": {
   "codemirror_mode": {
    "name": "ipython",
    "version": 3
   },
   "file_extension": ".py",
   "mimetype": "text/x-python",
   "name": "python",
   "nbconvert_exporter": "python",
   "pygments_lexer": "ipython3",
   "version": "3.10.11"
  }
 },
 "nbformat": 4,
 "nbformat_minor": 5
}
