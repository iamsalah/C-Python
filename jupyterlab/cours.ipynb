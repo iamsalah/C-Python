{
 "cells": [
  {
   "cell_type": "code",
   "execution_count": 2,
   "id": "41d04876-3f0b-4ef2-91f7-8731be6006d3",
   "metadata": {},
   "outputs": [],
   "source": [
    "class Cours:\n",
    "    \n",
    "    def __init__(self, nom, code, professeur):\n",
    "        self.nom = nom\n",
    "        self.code = code\n",
    "        self.professeur = professeur\n",
    "        \n",
    "    def afficher_informationns(self):\n",
    "        print(f\"Nom: {self.nom}\")\n",
    "        print(f\"Code: {self.code}\")\n",
    "        print(\"Professeur: \")\n",
    "        self.professeur.afficher_informationns()"
   ]
  },
  {
   "cell_type": "code",
   "execution_count": null,
   "id": "0769e087-071f-46f0-bb89-04b8e406e42b",
   "metadata": {},
   "outputs": [],
   "source": []
  }
 ],
 "metadata": {
  "kernelspec": {
   "display_name": "Python 3 (ipykernel)",
   "language": "python",
   "name": "python3"
  },
  "language_info": {
   "codemirror_mode": {
    "name": "ipython",
    "version": 3
   },
   "file_extension": ".py",
   "mimetype": "text/x-python",
   "name": "python",
   "nbconvert_exporter": "python",
   "pygments_lexer": "ipython3",
   "version": "3.10.11"
  }
 },
 "nbformat": 4,
 "nbformat_minor": 5
}
