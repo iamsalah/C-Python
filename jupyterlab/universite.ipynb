{
 "cells": [
  {
   "cell_type": "code",
   "execution_count": 2,
   "id": "754a07d8-039a-4696-ac3d-1391c1e348d0",
   "metadata": {},
   "outputs": [],
   "source": [
    "class Universite:\n",
    "    \n",
    "    def __init__(self, nom):\n",
    "        self.nom = nom\n",
    "        self.etudiants = []\n",
    "        self.professeurs = []\n",
    "        self.cours = []\n",
    "        \n",
    "    def ajout_etudiant(self, etudiant):\n",
    "        self.etudiants.append(etudiant)\n",
    "        \n",
    "    def ajout_professeur(self, professeur):\n",
    "        self.professeurs.append(professeur)\n",
    "        \n",
    "    def ajout_cours(self, cours):\n",
    "        self.cours.append(cours)"
   ]
  },
  {
   "cell_type": "code",
   "execution_count": null,
   "id": "b9749e40-f0ac-4eed-92f6-01ef52f52586",
   "metadata": {},
   "outputs": [],
   "source": []
  }
 ],
 "metadata": {
  "kernelspec": {
   "display_name": "Python 3 (ipykernel)",
   "language": "python",
   "name": "python3"
  },
  "language_info": {
   "codemirror_mode": {
    "name": "ipython",
    "version": 3
   },
   "file_extension": ".py",
   "mimetype": "text/x-python",
   "name": "python",
   "nbconvert_exporter": "python",
   "pygments_lexer": "ipython3",
   "version": "3.10.11"
  }
 },
 "nbformat": 4,
 "nbformat_minor": 5
}
