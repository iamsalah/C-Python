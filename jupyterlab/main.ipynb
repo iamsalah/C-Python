{
 "cells": [
  {
   "cell_type": "code",
   "execution_count": 1,
   "id": "8a75b25b-223a-448a-b609-1e9407f77bb2",
   "metadata": {},
   "outputs": [],
   "source": [
    "from application_universitaire import ApplicationUniversitaire\n",
    "from universite import Universite\n",
    "from etudiant import Etudiant\n",
    "from professeur import Professeur\n",
    "from cours import Cours"
   ]
  },
  {
   "cell_type": "code",
   "execution_count": 2,
   "id": "81462c75-720e-41e1-8e7e-21b770487d3c",
   "metadata": {},
   "outputs": [
    {
     "name": "stdout",
     "output_type": "stream",
     "text": [
      "Gestion Université lancée.\n"
     ]
    }
   ],
   "source": [
    "app_universitaire = ApplicationUniversitaire(\"Gestion Université\")\n",
    "app_universitaire.lancer_application()"
   ]
  },
  {
   "cell_type": "code",
   "execution_count": 3,
   "id": "75bd79ec-db53-408b-b6b4-05f075468831",
   "metadata": {},
   "outputs": [],
   "source": [
    "etudiant1 = Etudiant(\"Dupont\", \"Jean\", 20, \"E001\")\n",
    "etudiant2 = Etudiant(\"Martin\", \"Sophie\", 22, \"E002\")\n",
    "professeur1 = Professeur(\"Durand\", \"Pierre\", 40, \"Informatique\")\n",
    "professeur2 = Professeur(\"Lefebvre\", \"Marie\", 38, \"Mathématiques\")\n",
    "cours1 = Cours(\"Introduction à l'Informatique\", \"INFO101\", professeur1)\n",
    "cours2 = Cours(\"Algèbre Linéaire\", \"MATH201\", professeur2)\n",
    "universite = Universite(\"Université de Paris Saclay\")"
   ]
  },
  {
   "cell_type": "code",
   "execution_count": 4,
   "id": "5233e853-7662-45f6-933c-f4c295abef5f",
   "metadata": {},
   "outputs": [],
   "source": [
    "etudiant1.ajouter_cours(cours1)\n",
    "etudiant2.ajouter_cours(cours2)"
   ]
  },
  {
   "cell_type": "code",
   "execution_count": 5,
   "id": "5c2cfc2e-a838-468f-8bc4-13e5211dcfcc",
   "metadata": {},
   "outputs": [],
   "source": [
    "universite.ajouter_etudiant(etudiant1)\n",
    "universite.ajouter_etudiant(etudiant2)\n",
    "universite.ajouter_professeur(professeur1)\n",
    "universite.ajouter_professeur(professeur2)\n",
    "universite.ajouter_cours(cours1)\n",
    "universite.ajouter_cours(cours2)"
   ]
  },
  {
   "cell_type": "code",
   "execution_count": 6,
   "id": "df0b3d55-2044-4331-877d-8742c23ba50e",
   "metadata": {},
   "outputs": [
    {
     "name": "stdout",
     "output_type": "stream",
     "text": [
      "Informations de l'étudiant 1 :\n",
      "Nom: Dupont\n",
      "Prénom: Jean\n",
      "Âge: 20\n",
      "Matricule: E001\n",
      "Cours inscrits:\n",
      "<cours.Cours object at 0x00000204B0EE6BF0>\n"
     ]
    }
   ],
   "source": [
    "print(\"Informations de l'étudiant 1 :\")\n",
    "etudiant1.afficher_informations()"
   ]
  },
  {
   "cell_type": "code",
   "execution_count": 7,
   "id": "f40aa3a7-e02e-4987-8fbb-dd0655117d5a",
   "metadata": {},
   "outputs": [
    {
     "name": "stdout",
     "output_type": "stream",
     "text": [
      "\n",
      "Informations de l'étudiant 2 :\n",
      "Nom: Martin\n",
      "Prénom: Sophie\n",
      "Âge: 22\n",
      "Matricule: E002\n",
      "Cours inscrits:\n",
      "<cours.Cours object at 0x00000204B0EE7670>\n"
     ]
    }
   ],
   "source": [
    "print(\"\\nInformations de l'étudiant 2 :\")\n",
    "etudiant2.afficher_informations()"
   ]
  },
  {
   "cell_type": "code",
   "execution_count": 8,
   "id": "fed9bf6e-0110-48a3-9bc5-3436f2d00f03",
   "metadata": {},
   "outputs": [
    {
     "name": "stdout",
     "output_type": "stream",
     "text": [
      "\n",
      "Informations du cours 1 :\n",
      "Nom: Introduction à l'Informatique\n",
      "Code: INFO101\n",
      "Professeur: \n",
      "Nom: Durand\n",
      "Prénom: Pierre\n",
      "Âge: 40\n",
      "Spécialité: Informatique\n",
      "Aucun département assigné\n"
     ]
    }
   ],
   "source": [
    "print(\"\\nInformations du cours 1 :\")\n",
    "cours1.afficher_informations()"
   ]
  },
  {
   "cell_type": "code",
   "execution_count": 9,
   "id": "59a188d3-0f97-43f3-a8c8-c4a2d2f170b1",
   "metadata": {},
   "outputs": [
    {
     "name": "stdout",
     "output_type": "stream",
     "text": [
      "Utilisation de Gestion Université en cours...\n"
     ]
    }
   ],
   "source": [
    "app_universitaire.utiliser_application()"
   ]
  },
  {
   "cell_type": "code",
   "execution_count": 10,
   "id": "0d1ded7e-dd3c-45e0-811f-53ac49336bf1",
   "metadata": {},
   "outputs": [
    {
     "name": "stdout",
     "output_type": "stream",
     "text": [
      "Gestion Université quittée.\n"
     ]
    }
   ],
   "source": [
    "app_universitaire.quitter_application()"
   ]
  },
  {
   "cell_type": "code",
   "execution_count": null,
   "id": "262e3ba9-1bcf-4db1-be08-eab0a7cb57d1",
   "metadata": {},
   "outputs": [],
   "source": []
  }
 ],
 "metadata": {
  "kernelspec": {
   "display_name": "Python 3 (ipykernel)",
   "language": "python",
   "name": "python3"
  },
  "language_info": {
   "codemirror_mode": {
    "name": "ipython",
    "version": 3
   },
   "file_extension": ".py",
   "mimetype": "text/x-python",
   "name": "python",
   "nbconvert_exporter": "python",
   "pygments_lexer": "ipython3",
   "version": "3.10.11"
  }
 },
 "nbformat": 4,
 "nbformat_minor": 5
}
