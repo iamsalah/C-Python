{
 "cells": [
  {
   "cell_type": "code",
   "execution_count": 5,
   "id": "c16b6f3c-488e-4972-9e5f-eee0b669a628",
   "metadata": {},
   "outputs": [],
   "source": [
    "class ApplicationUniversitaire:\n",
    "    \n",
    "    def __init__(self, nom_application):\n",
    "        self.nom_application = nom_application\n",
    "    \n",
    "    def lancer_application(self):\n",
    "        print(f\"{self.nom_application} lancée.\")\n",
    "    \n",
    "    def utiliser_application(self):\n",
    "        print(f\"{self.nom_application} en cours ... \")\n",
    "        \n",
    "    def quitter_application(self):\n",
    "        print(f\"{self.nom_application} quittée.\")"
   ]
  },
  {
   "cell_type": "code",
   "execution_count": null,
   "id": "842bdc50-f8da-4ae6-8001-fbc3eab5f0b2",
   "metadata": {},
   "outputs": [],
   "source": []
  }
 ],
 "metadata": {
  "kernelspec": {
   "display_name": "Python 3 (ipykernel)",
   "language": "python",
   "name": "python3"
  },
  "language_info": {
   "codemirror_mode": {
    "name": "ipython",
    "version": 3
   },
   "file_extension": ".py",
   "mimetype": "text/x-python",
   "name": "python",
   "nbconvert_exporter": "python",
   "pygments_lexer": "ipython3",
   "version": "3.10.11"
  }
 },
 "nbformat": 4,
 "nbformat_minor": 5
}
